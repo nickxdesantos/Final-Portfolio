{
 "cells": [
  {
   "cell_type": "markdown",
   "id": "7f200573",
   "metadata": {},
   "source": [
    "# Term Project: Final Submisson\n",
    "\n",
    "Nicholas De Santos\n",
    "\n",
    "DSC 550"
   ]
  },
  {
   "cell_type": "markdown",
   "id": "5ea69e10",
   "metadata": {},
   "source": [
    "## Introduction\n",
    "\n",
    "#### Problem Introduction and Importance:\n",
    "\n",
    "    The business problem that was explored through the process of this data analysis is the problem of trying to determne what asspects of an employee's job affect that same employee's satisfaction in their particular career. The main goal of this investigation is to possibly help in identifying what features and benefits jobs could provide for their employees in order to improve job satisfaction in a work environment. This can come as a great importance to both employees and employers as well. It can help employee's know what kind of job benefits they should look for in a new job/career in order to have a better chance in higher job satisfaction. The results can be useful to employers as well because better job satisfaction within a workforce can help with productivity as well as limiting job turnover and wasting resources constantly hiring and training new employees. Because of it's benefits for both employees and employers, this analysis could benefit just about any company wanting to improve their employees' job satisfaction.\n",
    "\n",
    "#### Data Used and Background:\n",
    "\n",
    "    The data that will be used for this analysis is titled \"Employee Attrition and Factors\". The data provides information on 1470 different employees from various roles and career paths. The information of each employee includes things like the age of the employee, their hourly/daily/monthly rates, what department they work in, how far they travel for work and so much more. The data was aquired from the following link where more information on the data is provided: \n",
    "    \n",
    "    https://www.kaggle.com/datasets/thedevastator/employee-attrition-and-factors/"
   ]
  },
  {
   "cell_type": "markdown",
   "id": "f5f0320b",
   "metadata": {},
   "source": [
    "## Main Analysis\n",
    "\n",
    "### Exploratory Data Analysis:"
   ]
  },
  {
   "cell_type": "code",
   "execution_count": 6,
   "id": "304466f0",
   "metadata": {},
   "outputs": [],
   "source": [
    "# loading main packages/libraries\n",
    "import pandas as pd\n",
    "import numpy as np\n",
    "import matplotlib as mpl\n",
    "import matplotlib.pyplot as plt"
   ]
  },
  {
   "cell_type": "code",
   "execution_count": 7,
   "id": "709665ff",
   "metadata": {
    "scrolled": true
   },
   "outputs": [
    {
     "data": {
      "text/html": [
       "<div>\n",
       "<style scoped>\n",
       "    .dataframe tbody tr th:only-of-type {\n",
       "        vertical-align: middle;\n",
       "    }\n",
       "\n",
       "    .dataframe tbody tr th {\n",
       "        vertical-align: top;\n",
       "    }\n",
       "\n",
       "    .dataframe thead th {\n",
       "        text-align: right;\n",
       "    }\n",
       "</style>\n",
       "<table border=\"1\" class=\"dataframe\">\n",
       "  <thead>\n",
       "    <tr style=\"text-align: right;\">\n",
       "      <th></th>\n",
       "      <th>Age</th>\n",
       "      <th>Attrition</th>\n",
       "      <th>BusinessTravel</th>\n",
       "      <th>DailyRate</th>\n",
       "      <th>Department</th>\n",
       "      <th>DistanceFromHome</th>\n",
       "      <th>Education</th>\n",
       "      <th>EducationField</th>\n",
       "      <th>EmployeeCount</th>\n",
       "      <th>EmployeeNumber</th>\n",
       "      <th>...</th>\n",
       "      <th>RelationshipSatisfaction</th>\n",
       "      <th>StandardHours</th>\n",
       "      <th>StockOptionLevel</th>\n",
       "      <th>TotalWorkingYears</th>\n",
       "      <th>TrainingTimesLastYear</th>\n",
       "      <th>WorkLifeBalance</th>\n",
       "      <th>YearsAtCompany</th>\n",
       "      <th>YearsInCurrentRole</th>\n",
       "      <th>YearsSinceLastPromotion</th>\n",
       "      <th>YearsWithCurrManager</th>\n",
       "    </tr>\n",
       "  </thead>\n",
       "  <tbody>\n",
       "    <tr>\n",
       "      <th>0</th>\n",
       "      <td>41</td>\n",
       "      <td>Yes</td>\n",
       "      <td>Travel_Rarely</td>\n",
       "      <td>1102</td>\n",
       "      <td>Sales</td>\n",
       "      <td>1</td>\n",
       "      <td>2</td>\n",
       "      <td>Life Sciences</td>\n",
       "      <td>1</td>\n",
       "      <td>1</td>\n",
       "      <td>...</td>\n",
       "      <td>1</td>\n",
       "      <td>80</td>\n",
       "      <td>0</td>\n",
       "      <td>8</td>\n",
       "      <td>0</td>\n",
       "      <td>1</td>\n",
       "      <td>6</td>\n",
       "      <td>4</td>\n",
       "      <td>0</td>\n",
       "      <td>5</td>\n",
       "    </tr>\n",
       "    <tr>\n",
       "      <th>1</th>\n",
       "      <td>49</td>\n",
       "      <td>No</td>\n",
       "      <td>Travel_Frequently</td>\n",
       "      <td>279</td>\n",
       "      <td>Research &amp; Development</td>\n",
       "      <td>8</td>\n",
       "      <td>1</td>\n",
       "      <td>Life Sciences</td>\n",
       "      <td>1</td>\n",
       "      <td>2</td>\n",
       "      <td>...</td>\n",
       "      <td>4</td>\n",
       "      <td>80</td>\n",
       "      <td>1</td>\n",
       "      <td>10</td>\n",
       "      <td>3</td>\n",
       "      <td>3</td>\n",
       "      <td>10</td>\n",
       "      <td>7</td>\n",
       "      <td>1</td>\n",
       "      <td>7</td>\n",
       "    </tr>\n",
       "    <tr>\n",
       "      <th>2</th>\n",
       "      <td>37</td>\n",
       "      <td>Yes</td>\n",
       "      <td>Travel_Rarely</td>\n",
       "      <td>1373</td>\n",
       "      <td>Research &amp; Development</td>\n",
       "      <td>2</td>\n",
       "      <td>2</td>\n",
       "      <td>Other</td>\n",
       "      <td>1</td>\n",
       "      <td>4</td>\n",
       "      <td>...</td>\n",
       "      <td>2</td>\n",
       "      <td>80</td>\n",
       "      <td>0</td>\n",
       "      <td>7</td>\n",
       "      <td>3</td>\n",
       "      <td>3</td>\n",
       "      <td>0</td>\n",
       "      <td>0</td>\n",
       "      <td>0</td>\n",
       "      <td>0</td>\n",
       "    </tr>\n",
       "    <tr>\n",
       "      <th>3</th>\n",
       "      <td>33</td>\n",
       "      <td>No</td>\n",
       "      <td>Travel_Frequently</td>\n",
       "      <td>1392</td>\n",
       "      <td>Research &amp; Development</td>\n",
       "      <td>3</td>\n",
       "      <td>4</td>\n",
       "      <td>Life Sciences</td>\n",
       "      <td>1</td>\n",
       "      <td>5</td>\n",
       "      <td>...</td>\n",
       "      <td>3</td>\n",
       "      <td>80</td>\n",
       "      <td>0</td>\n",
       "      <td>8</td>\n",
       "      <td>3</td>\n",
       "      <td>3</td>\n",
       "      <td>8</td>\n",
       "      <td>7</td>\n",
       "      <td>3</td>\n",
       "      <td>0</td>\n",
       "    </tr>\n",
       "    <tr>\n",
       "      <th>4</th>\n",
       "      <td>27</td>\n",
       "      <td>No</td>\n",
       "      <td>Travel_Rarely</td>\n",
       "      <td>591</td>\n",
       "      <td>Research &amp; Development</td>\n",
       "      <td>2</td>\n",
       "      <td>1</td>\n",
       "      <td>Medical</td>\n",
       "      <td>1</td>\n",
       "      <td>7</td>\n",
       "      <td>...</td>\n",
       "      <td>4</td>\n",
       "      <td>80</td>\n",
       "      <td>1</td>\n",
       "      <td>6</td>\n",
       "      <td>3</td>\n",
       "      <td>3</td>\n",
       "      <td>2</td>\n",
       "      <td>2</td>\n",
       "      <td>2</td>\n",
       "      <td>2</td>\n",
       "    </tr>\n",
       "    <tr>\n",
       "      <th>...</th>\n",
       "      <td>...</td>\n",
       "      <td>...</td>\n",
       "      <td>...</td>\n",
       "      <td>...</td>\n",
       "      <td>...</td>\n",
       "      <td>...</td>\n",
       "      <td>...</td>\n",
       "      <td>...</td>\n",
       "      <td>...</td>\n",
       "      <td>...</td>\n",
       "      <td>...</td>\n",
       "      <td>...</td>\n",
       "      <td>...</td>\n",
       "      <td>...</td>\n",
       "      <td>...</td>\n",
       "      <td>...</td>\n",
       "      <td>...</td>\n",
       "      <td>...</td>\n",
       "      <td>...</td>\n",
       "      <td>...</td>\n",
       "      <td>...</td>\n",
       "    </tr>\n",
       "    <tr>\n",
       "      <th>1465</th>\n",
       "      <td>36</td>\n",
       "      <td>No</td>\n",
       "      <td>Travel_Frequently</td>\n",
       "      <td>884</td>\n",
       "      <td>Research &amp; Development</td>\n",
       "      <td>23</td>\n",
       "      <td>2</td>\n",
       "      <td>Medical</td>\n",
       "      <td>1</td>\n",
       "      <td>2061</td>\n",
       "      <td>...</td>\n",
       "      <td>3</td>\n",
       "      <td>80</td>\n",
       "      <td>1</td>\n",
       "      <td>17</td>\n",
       "      <td>3</td>\n",
       "      <td>3</td>\n",
       "      <td>5</td>\n",
       "      <td>2</td>\n",
       "      <td>0</td>\n",
       "      <td>3</td>\n",
       "    </tr>\n",
       "    <tr>\n",
       "      <th>1466</th>\n",
       "      <td>39</td>\n",
       "      <td>No</td>\n",
       "      <td>Travel_Rarely</td>\n",
       "      <td>613</td>\n",
       "      <td>Research &amp; Development</td>\n",
       "      <td>6</td>\n",
       "      <td>1</td>\n",
       "      <td>Medical</td>\n",
       "      <td>1</td>\n",
       "      <td>2062</td>\n",
       "      <td>...</td>\n",
       "      <td>1</td>\n",
       "      <td>80</td>\n",
       "      <td>1</td>\n",
       "      <td>9</td>\n",
       "      <td>5</td>\n",
       "      <td>3</td>\n",
       "      <td>7</td>\n",
       "      <td>7</td>\n",
       "      <td>1</td>\n",
       "      <td>7</td>\n",
       "    </tr>\n",
       "    <tr>\n",
       "      <th>1467</th>\n",
       "      <td>27</td>\n",
       "      <td>No</td>\n",
       "      <td>Travel_Rarely</td>\n",
       "      <td>155</td>\n",
       "      <td>Research &amp; Development</td>\n",
       "      <td>4</td>\n",
       "      <td>3</td>\n",
       "      <td>Life Sciences</td>\n",
       "      <td>1</td>\n",
       "      <td>2064</td>\n",
       "      <td>...</td>\n",
       "      <td>2</td>\n",
       "      <td>80</td>\n",
       "      <td>1</td>\n",
       "      <td>6</td>\n",
       "      <td>0</td>\n",
       "      <td>3</td>\n",
       "      <td>6</td>\n",
       "      <td>2</td>\n",
       "      <td>0</td>\n",
       "      <td>3</td>\n",
       "    </tr>\n",
       "    <tr>\n",
       "      <th>1468</th>\n",
       "      <td>49</td>\n",
       "      <td>No</td>\n",
       "      <td>Travel_Frequently</td>\n",
       "      <td>1023</td>\n",
       "      <td>Sales</td>\n",
       "      <td>2</td>\n",
       "      <td>3</td>\n",
       "      <td>Medical</td>\n",
       "      <td>1</td>\n",
       "      <td>2065</td>\n",
       "      <td>...</td>\n",
       "      <td>4</td>\n",
       "      <td>80</td>\n",
       "      <td>0</td>\n",
       "      <td>17</td>\n",
       "      <td>3</td>\n",
       "      <td>2</td>\n",
       "      <td>9</td>\n",
       "      <td>6</td>\n",
       "      <td>0</td>\n",
       "      <td>8</td>\n",
       "    </tr>\n",
       "    <tr>\n",
       "      <th>1469</th>\n",
       "      <td>34</td>\n",
       "      <td>No</td>\n",
       "      <td>Travel_Rarely</td>\n",
       "      <td>628</td>\n",
       "      <td>Research &amp; Development</td>\n",
       "      <td>8</td>\n",
       "      <td>3</td>\n",
       "      <td>Medical</td>\n",
       "      <td>1</td>\n",
       "      <td>2068</td>\n",
       "      <td>...</td>\n",
       "      <td>1</td>\n",
       "      <td>80</td>\n",
       "      <td>0</td>\n",
       "      <td>6</td>\n",
       "      <td>3</td>\n",
       "      <td>4</td>\n",
       "      <td>4</td>\n",
       "      <td>3</td>\n",
       "      <td>1</td>\n",
       "      <td>2</td>\n",
       "    </tr>\n",
       "  </tbody>\n",
       "</table>\n",
       "<p>1470 rows × 35 columns</p>\n",
       "</div>"
      ],
      "text/plain": [
       "      Age Attrition     BusinessTravel  DailyRate              Department  \\\n",
       "0      41       Yes      Travel_Rarely       1102                   Sales   \n",
       "1      49        No  Travel_Frequently        279  Research & Development   \n",
       "2      37       Yes      Travel_Rarely       1373  Research & Development   \n",
       "3      33        No  Travel_Frequently       1392  Research & Development   \n",
       "4      27        No      Travel_Rarely        591  Research & Development   \n",
       "...   ...       ...                ...        ...                     ...   \n",
       "1465   36        No  Travel_Frequently        884  Research & Development   \n",
       "1466   39        No      Travel_Rarely        613  Research & Development   \n",
       "1467   27        No      Travel_Rarely        155  Research & Development   \n",
       "1468   49        No  Travel_Frequently       1023                   Sales   \n",
       "1469   34        No      Travel_Rarely        628  Research & Development   \n",
       "\n",
       "      DistanceFromHome  Education EducationField  EmployeeCount  \\\n",
       "0                    1          2  Life Sciences              1   \n",
       "1                    8          1  Life Sciences              1   \n",
       "2                    2          2          Other              1   \n",
       "3                    3          4  Life Sciences              1   \n",
       "4                    2          1        Medical              1   \n",
       "...                ...        ...            ...            ...   \n",
       "1465                23          2        Medical              1   \n",
       "1466                 6          1        Medical              1   \n",
       "1467                 4          3  Life Sciences              1   \n",
       "1468                 2          3        Medical              1   \n",
       "1469                 8          3        Medical              1   \n",
       "\n",
       "      EmployeeNumber  ...  RelationshipSatisfaction StandardHours  \\\n",
       "0                  1  ...                         1            80   \n",
       "1                  2  ...                         4            80   \n",
       "2                  4  ...                         2            80   \n",
       "3                  5  ...                         3            80   \n",
       "4                  7  ...                         4            80   \n",
       "...              ...  ...                       ...           ...   \n",
       "1465            2061  ...                         3            80   \n",
       "1466            2062  ...                         1            80   \n",
       "1467            2064  ...                         2            80   \n",
       "1468            2065  ...                         4            80   \n",
       "1469            2068  ...                         1            80   \n",
       "\n",
       "      StockOptionLevel  TotalWorkingYears  TrainingTimesLastYear  \\\n",
       "0                    0                  8                      0   \n",
       "1                    1                 10                      3   \n",
       "2                    0                  7                      3   \n",
       "3                    0                  8                      3   \n",
       "4                    1                  6                      3   \n",
       "...                ...                ...                    ...   \n",
       "1465                 1                 17                      3   \n",
       "1466                 1                  9                      5   \n",
       "1467                 1                  6                      0   \n",
       "1468                 0                 17                      3   \n",
       "1469                 0                  6                      3   \n",
       "\n",
       "     WorkLifeBalance  YearsAtCompany YearsInCurrentRole  \\\n",
       "0                  1               6                  4   \n",
       "1                  3              10                  7   \n",
       "2                  3               0                  0   \n",
       "3                  3               8                  7   \n",
       "4                  3               2                  2   \n",
       "...              ...             ...                ...   \n",
       "1465               3               5                  2   \n",
       "1466               3               7                  7   \n",
       "1467               3               6                  2   \n",
       "1468               2               9                  6   \n",
       "1469               4               4                  3   \n",
       "\n",
       "      YearsSinceLastPromotion  YearsWithCurrManager  \n",
       "0                           0                     5  \n",
       "1                           1                     7  \n",
       "2                           0                     0  \n",
       "3                           3                     0  \n",
       "4                           2                     2  \n",
       "...                       ...                   ...  \n",
       "1465                        0                     3  \n",
       "1466                        1                     7  \n",
       "1467                        0                     3  \n",
       "1468                        0                     8  \n",
       "1469                        1                     2  \n",
       "\n",
       "[1470 rows x 35 columns]"
      ]
     },
     "execution_count": 7,
     "metadata": {},
     "output_type": "execute_result"
    }
   ],
   "source": [
    "#loading data\n",
    "hrdata = pd.read_csv(\"HR_Analytics.csv\")\n",
    "hrdata"
   ]
  },
  {
   "cell_type": "markdown",
   "id": "2183d291",
   "metadata": {},
   "source": [
    "    From the code above we learn that this particular dataset has 35 different features (columns) and 1470 different observations (rows). The different features inlcude the following.\n",
    "    \n",
    "    Age:----------------------The age of the employee. (Numerical)\n",
    "    Attrition:----------------Whether or not the employee has left the organization. (Categorical)\n",
    "    BusinessTravel:-----------The frequency of business travel for the employee. (Categorical)\n",
    "    DailyRate:----------------The daily rate of pay for the employee. (Numerical)\n",
    "    Department:---------------The department the employee works in. (Categorical)\n",
    "    DistanceFromHome:---------The distance from home in miles for the employee. (Numerical)\n",
    "    Education:----------------The level of education achieved by the employee. (Categorical)\n",
    "    EducationField:-----------The field of study for the employee's education. (Categorical)\n",
    "    EmployeeCount:------------The total number of employees in the organization. (Numerical)\n",
    "    EmployeeNumber:-----------A unique identifier for each employee profile. (Numerical)\n",
    "    EnvironmentSatisfaction:--The employee's satisfaction with their work environment. (Categorical)\n",
    "    Gender:-------------------The gender of the employee. (Categorical)\n",
    "    HourlyRate:---------------The hourly rate of pay for the employee. (Numerical)\n",
    "    JobInvolvement:-----------The level of involvement required for the employee's job. (Categorical)\n",
    "    JobLevel:-----------------The job level of the employee. (Categorical)\n",
    "    JobRole:------------------The role of the employee in the organization. (Categorical)\n",
    "    JobSatisfaction:----------The employee's satisfaction with their job. (Categorical)\n",
    "    MaritalStatus:------------The marital status of the employee. (Categorical)\n",
    "    MonthlyIncome:------------The monthly income of the employee. (Numerical)\n",
    "    MonthlyRate:--------------The monthly rate of pay for the employee. (Numerical)\n",
    "    NumCompaniesWorked:-------The number of companies the employee has worked for. (Numerical)\n",
    "    Over18:-------------------Whether or not the employee is over 18. (Categorical)\n",
    "    OverTime:-----------------Whether or not the employee works overtime. (Categorical)\n",
    "    PercentSalaryHike:--------The percentage of salary hike for the employee. (Numerical)\n",
    "    PerformanceRating:--------The performance rating of the employee. (Categorical)\n",
    "    RelationshipSatisfaction:-The employee's satisfaction with their relationships. (Categorical)\n",
    "    StandardHours:------------The standard hours of work for the employee. (Numerical)\n",
    "    StockOptionLevel:---------The stock option level of the employee. (Numerical)\n",
    "    TotalWorkingYears:--------The total number of years the employee has worked. (Numerical)\n",
    "    TrainingTimesLastYear:----The number of times the employee was taken for training in the last year. (Numerical)\n",
    "    WorkLifeBalance:----------The employee's perception of their work-life balance. (Categorical)\n",
    "    YearsAtCompany:-----------The number of years the employee has been with the company. (Numerical)\n",
    "    YearsInCurrentRole:-------The number of years the employee has been in their current role. (Numerical)\n",
    "    YearsSinceLastPromotion:--The number of years since the employee's last promotion. (Numerical)\n",
    "    YearsWithCurrManager:-----The number of years the employee has been with their current manager. (Numerical)\n",
    "    \n",
    "    For the sake of our analysis, out target varaible will be JobSatisfaction since we are trying to see what other features affect the amount of job satisfaction an employee feels in their career. Not all of these features will be used in the model building process so we first must see if we can decide what features affect our target variable the most if at all."
   ]
  },
  {
   "cell_type": "code",
   "execution_count": 8,
   "id": "6211e435",
   "metadata": {},
   "outputs": [
    {
     "data": {
      "text/plain": [
       "<Axes: xlabel='JobSatisfaction', ylabel='Age'>"
      ]
     },
     "execution_count": 8,
     "metadata": {},
     "output_type": "execute_result"
    },
    {
     "data": {
      "image/png": "[encoded data removed]",
      "text/plain": [
       "<Figure size 640x480 with 1 Axes>"
      ]
     },
     "metadata": {},
     "output_type": "display_data"
    }
   ],
   "source": [
    "#Graph 1: JobSatisfaction vs Age\n",
    "import seaborn as sns\n",
    "sns.stripplot(x= \"JobSatisfaction\", y= \"Age\", data=hrdata)"
   ]
  },
  {
   "cell_type": "markdown",
   "id": "61bc5e8a",
   "metadata": {},
   "source": [
    "#### Graph 1: Explaination:\n",
    "\n",
    "    Looking at the relationship between job satisfaction and employee age, the two higher job satisfaction ratings have a larger density of employees around the age of 25 to 45. It's not a super strong relationship and it's not obvious so perhaps we'll have to dive into these relationships further."
   ]
  },
  {
   "cell_type": "code",
   "execution_count": 9,
   "id": "a39bef39",
   "metadata": {},
   "outputs": [
    {
     "data": {
      "text/plain": [
       "<Axes: xlabel='JobSatisfaction', ylabel='MonthlyIncome'>"
      ]
     },
     "execution_count": 9,
     "metadata": {},
     "output_type": "execute_result"
    },
    {
     "data": {
      "image/png": "[encoded data removed]",
      "text/plain": [
       "<Figure size 640x480 with 1 Axes>"
      ]
     },
     "metadata": {},
     "output_type": "display_data"
    }
   ],
   "source": [
    "#Graph 2: MonthlyIncome vs JobSatisfaction (monetary motivation? Could influence performance as well)\n",
    "sns.stripplot(x= \"JobSatisfaction\", y= \"MonthlyIncome\", data=hrdata)"
   ]
  },
  {
   "cell_type": "markdown",
   "id": "c582d2ac",
   "metadata": {},
   "source": [
    "#### Graph 2: Explaination:\n",
    "\n",
    "    As the monthly income starts to increase we can see a slight increase in density for the higher job satisfaction ratings. This graph might have to be checked for outliers during further analysis due to the fact that salaries are often skewed to the right. It might also be useful to only use data of \"average\" employees."
   ]
  },
  {
   "cell_type": "code",
   "execution_count": 10,
   "id": "c1812e63",
   "metadata": {},
   "outputs": [
    {
     "data": {
      "text/plain": [
       "<Axes: xlabel='JobSatisfaction', ylabel='DistanceFromHome'>"
      ]
     },
     "execution_count": 10,
     "metadata": {},
     "output_type": "execute_result"
    },
    {
     "data": {
      "image/png": "[encoded data removed]",
      "text/plain": [
       "<Figure size 640x480 with 1 Axes>"
      ]
     },
     "metadata": {},
     "output_type": "display_data"
    }
   ],
   "source": [
    "#Graph 3: JobSatisfaction vs DistanceFromHome (does less hours improve performance?)\n",
    "sns.stripplot(x= \"JobSatisfaction\", y= \"DistanceFromHome\", data=hrdata)"
   ]
  },
  {
   "cell_type": "markdown",
   "id": "ccc19b87",
   "metadata": {},
   "source": [
    "#### Graph 3: Explaination:\n",
    "\n",
    "    This graph is interesting considering I would've guessed that the closer you are to your job the more job satisfaction you'd have considering the fact that you wouldn't have to sit through more traffic before and after your shift but depending on location, traffic might not even be a deciding factor in how mch you enjoy your job. But looking at the graph, job satisfaction seems pretty constant despite difference in distance from home."
   ]
  },
  {
   "cell_type": "code",
   "execution_count": 11,
   "id": "0b793c5d",
   "metadata": {},
   "outputs": [
    {
     "data": {
      "text/plain": [
       "<Axes: xlabel='JobSatisfaction', ylabel='TotalWorkingYears'>"
      ]
     },
     "execution_count": 11,
     "metadata": {},
     "output_type": "execute_result"
    },
    {
     "data": {
      "image/png": "[encoded data removed]",
      "text/plain": [
       "<Figure size 640x480 with 1 Axes>"
      ]
     },
     "metadata": {},
     "output_type": "display_data"
    }
   ],
   "source": [
    "#Graph 4: JobSatisfaction vs TotalWorkingYears (does traffic and commnity affect JobSatisfaction?)\n",
    "sns.stripplot(x= \"JobSatisfaction\", y= \"TotalWorkingYears\", data=hrdata)"
   ]
  },
  {
   "cell_type": "code",
   "execution_count": 12,
   "id": "b34fc925",
   "metadata": {},
   "outputs": [
    {
     "data": {
      "text/plain": [
       "<Axes: xlabel='JobSatisfaction', ylabel='TotalWorkingYears'>"
      ]
     },
     "execution_count": 12,
     "metadata": {},
     "output_type": "execute_result"
    },
    {
     "data": {
      "image/png": "[encoded data removed]",
      "text/plain": [
       "<Figure size 640x480 with 1 Axes>"
      ]
     },
     "metadata": {},
     "output_type": "display_data"
    }
   ],
   "source": [
    "#Graph 4: JobSatisfaction vs TotalWorkingYears (does traffic and commnity affect JobSatisfaction?)\n",
    "sns.stripplot(x= \"JobSatisfaction\", y= \"TotalWorkingYears\", data=hrdata)"
   ]
  },
  {
   "cell_type": "markdown",
   "id": "a51202ea",
   "metadata": {},
   "source": [
    "#### Graph 4: Explaination:\n",
    "\n",
    "    If you look at the graph, you can see a slight increase in density as the amount of years worked increases. You have more observations of higher job satisfaction ratings the more years an employee has worked. This could be due to the fact that these people have more experience either in their current job or exploring different job options and now know what works for them. It'll be interesting looking further into this.\n",
    "    \n",
    "#### Conclusion of Graphical Analysis:\n",
    "\n",
    "    As of right now, our analysis has showed us that job satisfaction has some kind of positive realtionship with total working years, monthly income, and employee age. Of course this is not an extensive list and further analysis is still needed within those observations. I would also like focusing my analysis on specific subgroups of the data to see if any new relationships become visible in that way. "
   ]
  },
  {
   "cell_type": "markdown",
   "id": "c97e8f7c",
   "metadata": {},
   "source": [
    "### Data Preparation:\n",
    "\n",
    "    In the data preparation portion of the analysis, we more so look for problems in the data. First we look at the different data types that we're working with and make sure that each feature's data type is consistent with what we expect."
   ]
  },
  {
   "cell_type": "code",
   "execution_count": 13,
   "id": "acea4c1a",
   "metadata": {},
   "outputs": [
    {
     "name": "stdout",
     "output_type": "stream",
     "text": [
      "Output:\n",
      "Age                          int64\n",
      "Attrition                   object\n",
      "BusinessTravel              object\n",
      "DailyRate                    int64\n",
      "Department                  object\n",
      "DistanceFromHome             int64\n",
      "Education                    int64\n",
      "EducationField              object\n",
      "EmployeeCount                int64\n",
      "EmployeeNumber               int64\n",
      "EnvironmentSatisfaction      int64\n",
      "Gender                      object\n",
      "HourlyRate                   int64\n",
      "JobInvolvement               int64\n",
      "JobLevel                     int64\n",
      "JobRole                     object\n",
      "JobSatisfaction              int64\n",
      "MaritalStatus               object\n",
      "MonthlyIncome                int64\n",
      "MonthlyRate                  int64\n",
      "NumCompaniesWorked           int64\n",
      "Over18                      object\n",
      "OverTime                    object\n",
      "PercentSalaryHike            int64\n",
      "PerformanceRating            int64\n",
      "RelationshipSatisfaction     int64\n",
      "StandardHours                int64\n",
      "StockOptionLevel             int64\n",
      "TotalWorkingYears            int64\n",
      "TrainingTimesLastYear        int64\n",
      "WorkLifeBalance              int64\n",
      "YearsAtCompany               int64\n",
      "YearsInCurrentRole           int64\n",
      "YearsSinceLastPromotion      int64\n",
      "YearsWithCurrManager         int64\n",
      "dtype: object\n"
     ]
    }
   ],
   "source": [
    "#Variable names and data types\n",
    "result = hrdata.dtypes\n",
    "\n",
    "print(\"Output:\")\n",
    "print(result)"
   ]
  },
  {
   "cell_type": "markdown",
   "id": "0f21e777",
   "metadata": {},
   "source": [
    "    After looking at each feature's data types and getting a good idea of some relationships between those features and our target varaible JobSatisfaction, now it's time to decide what features we want to keep in our dataset that might be helpful in our model building stage later.\n",
    "    \n",
    "    First we want to subset the data for employees that are still working at their current job since this can add some bias towards satisfaction but also the goal is to improve job satisfaction within an company and then we want to get rid of that variable"
   ]
  },
  {
   "cell_type": "code",
   "execution_count": 14,
   "id": "b61b4a5a",
   "metadata": {},
   "outputs": [
    {
     "name": "stdout",
     "output_type": "stream",
     "text": [
      "      Age     BusinessTravel  DailyRate              Department  \\\n",
      "1      49  Travel_Frequently        279  Research & Development   \n",
      "3      33  Travel_Frequently       1392  Research & Development   \n",
      "4      27      Travel_Rarely        591  Research & Development   \n",
      "5      32  Travel_Frequently       1005  Research & Development   \n",
      "6      59      Travel_Rarely       1324  Research & Development   \n",
      "...   ...                ...        ...                     ...   \n",
      "1465   36  Travel_Frequently        884  Research & Development   \n",
      "1466   39      Travel_Rarely        613  Research & Development   \n",
      "1467   27      Travel_Rarely        155  Research & Development   \n",
      "1468   49  Travel_Frequently       1023                   Sales   \n",
      "1469   34      Travel_Rarely        628  Research & Development   \n",
      "\n",
      "      DistanceFromHome  Education EducationField  EmployeeCount  \\\n",
      "1                    8          1  Life Sciences              1   \n",
      "3                    3          4  Life Sciences              1   \n",
      "4                    2          1        Medical              1   \n",
      "5                    2          2  Life Sciences              1   \n",
      "6                    3          3        Medical              1   \n",
      "...                ...        ...            ...            ...   \n",
      "1465                23          2        Medical              1   \n",
      "1466                 6          1        Medical              1   \n",
      "1467                 4          3  Life Sciences              1   \n",
      "1468                 2          3        Medical              1   \n",
      "1469                 8          3        Medical              1   \n",
      "\n",
      "      EmployeeNumber  EnvironmentSatisfaction  ... RelationshipSatisfaction  \\\n",
      "1                  2                        3  ...                        4   \n",
      "3                  5                        4  ...                        3   \n",
      "4                  7                        1  ...                        4   \n",
      "5                  8                        4  ...                        3   \n",
      "6                 10                        3  ...                        1   \n",
      "...              ...                      ...  ...                      ...   \n",
      "1465            2061                        3  ...                        3   \n",
      "1466            2062                        4  ...                        1   \n",
      "1467            2064                        2  ...                        2   \n",
      "1468            2065                        4  ...                        4   \n",
      "1469            2068                        2  ...                        1   \n",
      "\n",
      "      StandardHours  StockOptionLevel  TotalWorkingYears  \\\n",
      "1                80                 1                 10   \n",
      "3                80                 0                  8   \n",
      "4                80                 1                  6   \n",
      "5                80                 0                  8   \n",
      "6                80                 3                 12   \n",
      "...             ...               ...                ...   \n",
      "1465             80                 1                 17   \n",
      "1466             80                 1                  9   \n",
      "1467             80                 1                  6   \n",
      "1468             80                 0                 17   \n",
      "1469             80                 0                  6   \n",
      "\n",
      "     TrainingTimesLastYear  WorkLifeBalance YearsAtCompany  \\\n",
      "1                        3                3             10   \n",
      "3                        3                3              8   \n",
      "4                        3                3              2   \n",
      "5                        2                2              7   \n",
      "6                        3                2              1   \n",
      "...                    ...              ...            ...   \n",
      "1465                     3                3              5   \n",
      "1466                     5                3              7   \n",
      "1467                     0                3              6   \n",
      "1468                     3                2              9   \n",
      "1469                     3                4              4   \n",
      "\n",
      "      YearsInCurrentRole  YearsSinceLastPromotion  YearsWithCurrManager  \n",
      "1                      7                        1                     7  \n",
      "3                      7                        3                     0  \n",
      "4                      2                        2                     2  \n",
      "5                      7                        3                     6  \n",
      "6                      0                        0                     0  \n",
      "...                  ...                      ...                   ...  \n",
      "1465                   2                        0                     3  \n",
      "1466                   7                        1                     7  \n",
      "1467                   2                        0                     3  \n",
      "1468                   6                        0                     8  \n",
      "1469                   3                        1                     2  \n",
      "\n",
      "[1233 rows x 34 columns]\n"
     ]
    }
   ],
   "source": [
    "#removing employees that aren't working for the company anymore\n",
    "\n",
    "hrdataa = hrdata[hrdata['Attrition'] == \"No\"]\n",
    "hrdataa = hrdataa.drop('Attrition', axis=1)\n",
    "\n",
    "print(hrdataa)"
   ]
  },
  {
   "cell_type": "markdown",
   "id": "a783f65f",
   "metadata": {},
   "source": [
    "    Next we want to drop some other features just based on their background and description we have. For example, there are three different ways in which an employee's compensation is accounted for. DailyRate, HourlyRate, and MonthlyRate. DailyRate and HourlyRate will be dropped because the data also includes monthly rate. Because MonthlyRate and MonthlyIncome (total income including other incomes aside from this job) are techically different, we will keep both of them. Because part of the purpose of this analysis is to help employers see what they can possibly provide for employees in order to increase job satisfaction, we will also drop MaritalStatus because that is out of the control of what companies can do for their employees. We will also drop PerformanceRating because the answers all seemed unimportant (everyone was either 3 or 4 so there wasn't enough significance in the differences). Lastly, we drop RelationshipSatisfaction for the same reason as MaritalStatus."
   ]
  },
  {
   "cell_type": "code",
   "execution_count": 15,
   "id": "ad91f835",
   "metadata": {},
   "outputs": [
    {
     "name": "stdout",
     "output_type": "stream",
     "text": [
      "Output:\n",
      "Age                         int64\n",
      "BusinessTravel             object\n",
      "Department                 object\n",
      "DistanceFromHome            int64\n",
      "Education                   int64\n",
      "EducationField             object\n",
      "EmployeeCount               int64\n",
      "EmployeeNumber              int64\n",
      "EnvironmentSatisfaction     int64\n",
      "Gender                     object\n",
      "JobInvolvement              int64\n",
      "JobLevel                    int64\n",
      "JobRole                    object\n",
      "JobSatisfaction             int64\n",
      "MonthlyIncome               int64\n",
      "MonthlyRate                 int64\n",
      "NumCompaniesWorked          int64\n",
      "Over18                     object\n",
      "OverTime                   object\n",
      "PercentSalaryHike           int64\n",
      "StandardHours               int64\n",
      "StockOptionLevel            int64\n",
      "TotalWorkingYears           int64\n",
      "TrainingTimesLastYear       int64\n",
      "WorkLifeBalance             int64\n",
      "YearsAtCompany              int64\n",
      "YearsInCurrentRole          int64\n",
      "YearsSinceLastPromotion     int64\n",
      "YearsWithCurrManager        int64\n",
      "dtype: object\n"
     ]
    }
   ],
   "source": [
    "#Dropping features listed above\n",
    "\n",
    "hrdataa = hrdataa.drop(['DailyRate', 'HourlyRate', 'MaritalStatus', 'PerformanceRating', \n",
    "                        'RelationshipSatisfaction'], axis=1)\n",
    "\n",
    "result = hrdataa.dtypes\n",
    "\n",
    "print(\"Output:\")\n",
    "print(result)"
   ]
  },
  {
   "cell_type": "markdown",
   "id": "0693b9ec",
   "metadata": {},
   "source": [
    "    After deciding which varaibles we're going to keep in our final model, next we want to convert the categorical variables to dummy varaibles. We can check which variables are supposed to be categorical variables in the results above as well as which variables are supposed to be numerical. The categorical variable will have to be converted into dummy varaible for them to be used in any type of model building process.\n",
    "    \n",
    "    Now usually we wouldn't use 0,1 and 2 as dummy values for a varaible when creating dummy varaibles but since the BusinessTravel varaible has rankable categories. In this case the bigger the number the more business travel was required in that particular job. Also notice that we had to account for an extra value in Over18. This was because there was an error in the data input. Most observations were either \"Yes\" or \"No\" but one was simply \"Y\" meaning yes so we had to account for that when changing the varaible to a dummy variable.\n",
    "    \n",
    "    For the categorical variables that we wouldn't convert to dummy variables manually, we were able to use the get_dummies attribute for pandas dataframes and convert those variables that way."
   ]
  },
  {
   "cell_type": "code",
   "execution_count": 16,
   "id": "d353392d",
   "metadata": {},
   "outputs": [
    {
     "name": "stdout",
     "output_type": "stream",
     "text": [
      "Output:\n",
      "Age                                  int64\n",
      "BusinessTravel                       int64\n",
      "DistanceFromHome                     int64\n",
      "Education                            int64\n",
      "EmployeeCount                        int64\n",
      "EmployeeNumber                       int64\n",
      "EnvironmentSatisfaction              int64\n",
      "Gender                               int64\n",
      "JobInvolvement                       int64\n",
      "JobLevel                             int64\n",
      "JobSatisfaction                      int64\n",
      "MonthlyIncome                        int64\n",
      "MonthlyRate                          int64\n",
      "NumCompaniesWorked                   int64\n",
      "Over18                               int64\n",
      "OverTime                             int64\n",
      "PercentSalaryHike                    int64\n",
      "StandardHours                        int64\n",
      "StockOptionLevel                     int64\n",
      "TotalWorkingYears                    int64\n",
      "TrainingTimesLastYear                int64\n",
      "WorkLifeBalance                      int64\n",
      "YearsAtCompany                       int64\n",
      "YearsInCurrentRole                   int64\n",
      "YearsSinceLastPromotion              int64\n",
      "YearsWithCurrManager                 int64\n",
      "Department_Human Resources           uint8\n",
      "Department_Research & Development    uint8\n",
      "Department_Sales                     uint8\n",
      "EducationField_Human Resources       uint8\n",
      "EducationField_Life Sciences         uint8\n",
      "EducationField_Marketing             uint8\n",
      "EducationField_Medical               uint8\n",
      "EducationField_Other                 uint8\n",
      "EducationField_Technical Degree      uint8\n",
      "JobRole_Healthcare Representative    uint8\n",
      "JobRole_Human Resources              uint8\n",
      "JobRole_Laboratory Technician        uint8\n",
      "JobRole_Manager                      uint8\n",
      "JobRole_Manufacturing Director       uint8\n",
      "JobRole_Research Director            uint8\n",
      "JobRole_Research Scientist           uint8\n",
      "JobRole_Sales Executive              uint8\n",
      "JobRole_Sales Representative         uint8\n",
      "dtype: object\n",
      "      Age  BusinessTravel  DistanceFromHome  Education  EmployeeCount  \\\n",
      "1      49               2                 8          1              1   \n",
      "3      33               2                 3          4              1   \n",
      "4      27               1                 2          1              1   \n",
      "5      32               2                 2          2              1   \n",
      "6      59               1                 3          3              1   \n",
      "...   ...             ...               ...        ...            ...   \n",
      "1465   36               2                23          2              1   \n",
      "1466   39               1                 6          1              1   \n",
      "1467   27               1                 4          3              1   \n",
      "1468   49               2                 2          3              1   \n",
      "1469   34               1                 8          3              1   \n",
      "\n",
      "      EmployeeNumber  EnvironmentSatisfaction  Gender  JobInvolvement  \\\n",
      "1                  2                        3       0               2   \n",
      "3                  5                        4       1               3   \n",
      "4                  7                        1       0               3   \n",
      "5                  8                        4       0               3   \n",
      "6                 10                        3       1               4   \n",
      "...              ...                      ...     ...             ...   \n",
      "1465            2061                        3       0               4   \n",
      "1466            2062                        4       0               2   \n",
      "1467            2064                        2       0               4   \n",
      "1468            2065                        4       0               2   \n",
      "1469            2068                        2       0               4   \n",
      "\n",
      "      JobLevel  ...  EducationField_Technical Degree  \\\n",
      "1            2  ...                                0   \n",
      "3            1  ...                                0   \n",
      "4            1  ...                                0   \n",
      "5            1  ...                                0   \n",
      "6            1  ...                                0   \n",
      "...        ...  ...                              ...   \n",
      "1465         2  ...                                0   \n",
      "1466         3  ...                                0   \n",
      "1467         2  ...                                0   \n",
      "1468         2  ...                                0   \n",
      "1469         2  ...                                0   \n",
      "\n",
      "      JobRole_Healthcare Representative  JobRole_Human Resources  \\\n",
      "1                                     0                        0   \n",
      "3                                     0                        0   \n",
      "4                                     0                        0   \n",
      "5                                     0                        0   \n",
      "6                                     0                        0   \n",
      "...                                 ...                      ...   \n",
      "1465                                  0                        0   \n",
      "1466                                  1                        0   \n",
      "1467                                  0                        0   \n",
      "1468                                  0                        0   \n",
      "1469                                  0                        0   \n",
      "\n",
      "      JobRole_Laboratory Technician  JobRole_Manager  \\\n",
      "1                                 0                0   \n",
      "3                                 0                0   \n",
      "4                                 1                0   \n",
      "5                                 1                0   \n",
      "6                                 1                0   \n",
      "...                             ...              ...   \n",
      "1465                              1                0   \n",
      "1466                              0                0   \n",
      "1467                              0                0   \n",
      "1468                              0                0   \n",
      "1469                              1                0   \n",
      "\n",
      "      JobRole_Manufacturing Director  JobRole_Research Director  \\\n",
      "1                                  0                          0   \n",
      "3                                  0                          0   \n",
      "4                                  0                          0   \n",
      "5                                  0                          0   \n",
      "6                                  0                          0   \n",
      "...                              ...                        ...   \n",
      "1465                               0                          0   \n",
      "1466                               0                          0   \n",
      "1467                               1                          0   \n",
      "1468                               0                          0   \n",
      "1469                               0                          0   \n",
      "\n",
      "      JobRole_Research Scientist  JobRole_Sales Executive  \\\n",
      "1                              1                        0   \n",
      "3                              1                        0   \n",
      "4                              0                        0   \n",
      "5                              0                        0   \n",
      "6                              0                        0   \n",
      "...                          ...                      ...   \n",
      "1465                           0                        0   \n",
      "1466                           0                        0   \n",
      "1467                           0                        0   \n",
      "1468                           0                        1   \n",
      "1469                           0                        0   \n",
      "\n",
      "      JobRole_Sales Representative  \n",
      "1                                0  \n",
      "3                                0  \n",
      "4                                0  \n",
      "5                                0  \n",
      "6                                0  \n",
      "...                            ...  \n",
      "1465                             0  \n",
      "1466                             0  \n",
      "1467                             0  \n",
      "1468                             0  \n",
      "1469                             0  \n",
      "\n",
      "[1233 rows x 44 columns]\n"
     ]
    }
   ],
   "source": [
    "#Create dummy variables if necessary.\n",
    "#changing Business Travel - since this is quantifiable/rankable we will simply change to numbers\n",
    "hrdataa['BusinessTravel'] = hrdataa['BusinessTravel'].replace(['Non-Travel'], 0)\n",
    "hrdataa['BusinessTravel'] = hrdataa['BusinessTravel'].replace(['Travel_Rarely'], 1)\n",
    "hrdataa['BusinessTravel'] = hrdataa['BusinessTravel'].replace(['Travel_Frequently'], 2)\n",
    "\n",
    "#Changing Gender to Binary\n",
    "hrdataa['Gender'] = hrdataa['Gender'].replace(['Male'], 0)\n",
    "hrdataa['Gender'] = hrdataa['Gender'].replace(['Female'], 1)\n",
    "\n",
    "#Changing Over18 to Binary\n",
    "hrdataa['Over18'] = hrdataa['Over18'].replace(['No'], 0)\n",
    "hrdataa['Over18'] = hrdataa['Over18'].replace(['Yes'], 1)\n",
    "hrdataa['Over18'] = hrdataa['Over18'].replace(['Y'], 1)\n",
    "\n",
    "#Changing OverTime to Binary\n",
    "hrdataa['OverTime'] = hrdataa['OverTime'].replace(['No'], 0)\n",
    "hrdataa['OverTime'] = hrdataa['OverTime'].replace(['Yes'], 1)\n",
    "\n",
    "\n",
    "#We have to do Department and EducationField using a different method\n",
    "\n",
    "hrdataadum = pd.get_dummies(hrdataa)\n",
    "\n",
    "result = hrdataadum.dtypes\n",
    "print(\"Output:\")\n",
    "print(result)\n",
    "print(hrdataadum)"
   ]
  },
  {
   "cell_type": "markdown",
   "id": "9a835aee",
   "metadata": {},
   "source": [
    "    Now once we have chosen our varaibles and made the necessary changes to our data, the last thing that is left is to make sure that there aren't any missing values in our data and then we are able to move onto the model building process."
   ]
  },
  {
   "cell_type": "code",
   "execution_count": 17,
   "id": "514139c1",
   "metadata": {},
   "outputs": [
    {
     "name": "stdout",
     "output_type": "stream",
     "text": [
      "False\n"
     ]
    }
   ],
   "source": [
    "#Deal with missing data (do not just drop rows or columns without justifying this).\n",
    "# Applying the method\n",
    "check_nan = hrdataadum.isnull().values.any()\n",
    " \n",
    "# printing the result\n",
    "print(check_nan)"
   ]
  },
  {
   "cell_type": "markdown",
   "id": "0f52957a",
   "metadata": {},
   "source": [
    "### Model building and Evaluation:\n",
    "\n",
    "    Before we start building our model, we first want to separate our dataset into training and testing sets so we are able to evaluate our model later one. For this analysis the training set will be 80% of the original dataset and then 20% of the data goes to the testing set which will be used in order to compare to the model predictions we get. In previous models, we used 75% of the data for the training set but decided to increase the size of the training set with the hopes of training a better and more accurate model."
   ]
  },
  {
   "cell_type": "code",
   "execution_count": 18,
   "id": "e54f3757",
   "metadata": {},
   "outputs": [],
   "source": [
    "#Importing necessary packages to create our model and splitting data into training and testing sets\n",
    "from sklearn.model_selection import train_test_split\n",
    "\n",
    "X = hrdataadum.loc[:, hrdataadum.columns != \"JobSatisfaction\"]\n",
    "y = hrdataadum.loc[:, ['JobSatisfaction']]\n",
    "\n",
    "X_train, X_test, y_train, y_test = train_test_split(X, y, random_state=0, train_size = .80) # slightly bigger training size"
   ]
  },
  {
   "cell_type": "markdown",
   "id": "a7faf5a3",
   "metadata": {},
   "source": [
    "    The first round of model building, we used a linear regression model and treated our target variable as a numerical one. But this time around we tried using a logistic regression model and treated our target varaible as a categorical variable once again since the values are either 1, 2, 3 or 4. We then fit our logistic regression model with our training data."
   ]
  },
  {
   "cell_type": "code",
   "execution_count": 20,
   "id": "ea07049c",
   "metadata": {},
   "outputs": [
    {
     "name": "stderr",
     "output_type": "stream",
     "text": [
      "C:\\Users\\nickx\\anaconda3\\lib\\site-packages\\sklearn\\utils\\validation.py:1143: DataConversionWarning: A column-vector y was passed when a 1d array was expected. Please change the shape of y to (n_samples, ), for example using ravel().\n",
      "  y = column_or_1d(y, warn=True)\n",
      "C:\\Users\\nickx\\anaconda3\\lib\\site-packages\\sklearn\\linear_model\\_logistic.py:458: ConvergenceWarning: lbfgs failed to converge (status=1):\n",
      "STOP: TOTAL NO. of ITERATIONS REACHED LIMIT.\n",
      "\n",
      "Increase the number of iterations (max_iter) or scale the data as shown in:\n",
      "    https://scikit-learn.org/stable/modules/preprocessing.html\n",
      "Please also refer to the documentation for alternative solver options:\n",
      "    https://scikit-learn.org/stable/modules/linear_model.html#logistic-regression\n",
      "  n_iter_i = _check_optimize_result(\n"
     ]
    },
    {
     "data": {
      "text/html": [
       "<style>#sk-container-id-1 {color: black;background-color: white;}#sk-container-id-1 pre{padding: 0;}#sk-container-id-1 div.sk-toggleable {background-color: white;}#sk-container-id-1 label.sk-toggleable__label {cursor: pointer;display: block;width: 100%;margin-bottom: 0;padding: 0.3em;box-sizing: border-box;text-align: center;}#sk-container-id-1 label.sk-toggleable__label-arrow:before {content: \"▸\";float: left;margin-right: 0.25em;color: #696969;}#sk-container-id-1 label.sk-toggleable__label-arrow:hover:before {color: black;}#sk-container-id-1 div.sk-estimator:hover label.sk-toggleable__label-arrow:before {color: black;}#sk-container-id-1 div.sk-toggleable__content {max-height: 0;max-width: 0;overflow: hidden;text-align: left;background-color: #f0f8ff;}#sk-container-id-1 div.sk-toggleable__content pre {margin: 0.2em;color: black;border-radius: 0.25em;background-color: #f0f8ff;}#sk-container-id-1 input.sk-toggleable__control:checked~div.sk-toggleable__content {max-height: 200px;max-width: 100%;overflow: auto;}#sk-container-id-1 input.sk-toggleable__control:checked~label.sk-toggleable__label-arrow:before {content: \"▾\";}#sk-container-id-1 div.sk-estimator input.sk-toggleable__control:checked~label.sk-toggleable__label {background-color: #d4ebff;}#sk-container-id-1 div.sk-label input.sk-toggleable__control:checked~label.sk-toggleable__label {background-color: #d4ebff;}#sk-container-id-1 input.sk-hidden--visually {border: 0;clip: rect(1px 1px 1px 1px);clip: rect(1px, 1px, 1px, 1px);height: 1px;margin: -1px;overflow: hidden;padding: 0;position: absolute;width: 1px;}#sk-container-id-1 div.sk-estimator {font-family: monospace;background-color: #f0f8ff;border: 1px dotted black;border-radius: 0.25em;box-sizing: border-box;margin-bottom: 0.5em;}#sk-container-id-1 div.sk-estimator:hover {background-color: #d4ebff;}#sk-container-id-1 div.sk-parallel-item::after {content: \"\";width: 100%;border-bottom: 1px solid gray;flex-grow: 1;}#sk-container-id-1 div.sk-label:hover label.sk-toggleable__label {background-color: #d4ebff;}#sk-container-id-1 div.sk-serial::before {content: \"\";position: absolute;border-left: 1px solid gray;box-sizing: border-box;top: 0;bottom: 0;left: 50%;z-index: 0;}#sk-container-id-1 div.sk-serial {display: flex;flex-direction: column;align-items: center;background-color: white;padding-right: 0.2em;padding-left: 0.2em;position: relative;}#sk-container-id-1 div.sk-item {position: relative;z-index: 1;}#sk-container-id-1 div.sk-parallel {display: flex;align-items: stretch;justify-content: center;background-color: white;position: relative;}#sk-container-id-1 div.sk-item::before, #sk-container-id-1 div.sk-parallel-item::before {content: \"\";position: absolute;border-left: 1px solid gray;box-sizing: border-box;top: 0;bottom: 0;left: 50%;z-index: -1;}#sk-container-id-1 div.sk-parallel-item {display: flex;flex-direction: column;z-index: 1;position: relative;background-color: white;}#sk-container-id-1 div.sk-parallel-item:first-child::after {align-self: flex-end;width: 50%;}#sk-container-id-1 div.sk-parallel-item:last-child::after {align-self: flex-start;width: 50%;}#sk-container-id-1 div.sk-parallel-item:only-child::after {width: 0;}#sk-container-id-1 div.sk-dashed-wrapped {border: 1px dashed gray;margin: 0 0.4em 0.5em 0.4em;box-sizing: border-box;padding-bottom: 0.4em;background-color: white;}#sk-container-id-1 div.sk-label label {font-family: monospace;font-weight: bold;display: inline-block;line-height: 1.2em;}#sk-container-id-1 div.sk-label-container {text-align: center;}#sk-container-id-1 div.sk-container {/* jupyter's `normalize.less` sets `[hidden] { display: none; }` but bootstrap.min.css set `[hidden] { display: none !important; }` so we also need the `!important` here to be able to override the default hidden behavior on the sphinx rendered scikit-learn.org. See: https://github.com/scikit-learn/scikit-learn/issues/21755 */display: inline-block !important;position: relative;}#sk-container-id-1 div.sk-text-repr-fallback {display: none;}</style><div id=\"sk-container-id-1\" class=\"sk-top-container\"><div class=\"sk-text-repr-fallback\"><pre>LogisticRegression()</pre><b>In a Jupyter environment, please rerun this cell to show the HTML representation or trust the notebook. <br />On GitHub, the HTML representation is unable to render, please try loading this page with nbviewer.org.</b></div><div class=\"sk-container\" hidden><div class=\"sk-item\"><div class=\"sk-estimator sk-toggleable\"><input class=\"sk-toggleable__control sk-hidden--visually\" id=\"sk-estimator-id-1\" type=\"checkbox\" checked><label for=\"sk-estimator-id-1\" class=\"sk-toggleable__label sk-toggleable__label-arrow\">LogisticRegression</label><div class=\"sk-toggleable__content\"><pre>LogisticRegression()</pre></div></div></div></div></div>"
      ],
      "text/plain": [
       "LogisticRegression()"
      ]
     },
     "execution_count": 20,
     "metadata": {},
     "output_type": "execute_result"
    }
   ],
   "source": [
    "#Package for linear regression model and training model with trianing set\n",
    "from sklearn.linear_model import LogisticRegression\n",
    "logmod = LogisticRegression()\n",
    "logmod.fit(X_train, y_train)"
   ]
  },
  {
   "cell_type": "markdown",
   "id": "b71305a5",
   "metadata": {},
   "source": [
    "    Once the model has been fit, we are able to get predictions from this model by plugging in our testing x values to the model."
   ]
  },
  {
   "cell_type": "code",
   "execution_count": 21,
   "id": "6967134e",
   "metadata": {},
   "outputs": [],
   "source": [
    "#Using our model to get predictions\n",
    "import sklearn.metrics as metrics\n",
    "predvals = logmod.predict(X_test)\n",
    "y = y_test\n",
    "y = y.to_numpy()\n",
    "yhat = predvals"
   ]
  },
  {
   "cell_type": "markdown",
   "id": "fa6bfd75",
   "metadata": {},
   "source": [
    "    Finally, once we have our predicted values from our model, we are able to evalate our model by comparing our testing y values to the predicted values and getting our accuracy score. We end up getting an accuracy score of about 0.3117. This means that our model predicted the correct JobSatisfaction ranking 31.17% of the time which it better than random guessing (25% chance of guessing correctly since there are four possible values to choose from). This is a major improvement from our previous model. While there was no measure of accuracy"
   ]
  },
  {
   "cell_type": "code",
   "execution_count": 22,
   "id": "03303826",
   "metadata": {},
   "outputs": [
    {
     "name": "stdout",
     "output_type": "stream",
     "text": [
      "0.3117408906882591\n"
     ]
    }
   ],
   "source": [
    "#Model Evaluation\n",
    "from sklearn.metrics import accuracy_score\n",
    "print(accuracy_score(y, predvals))"
   ]
  },
  {
   "cell_type": "code",
   "execution_count": 24,
   "id": "70f65cd8",
   "metadata": {},
   "outputs": [
    {
     "data": {
      "text/plain": [
       "array([[ 0,  0, 17, 31],\n",
       "       [ 0,  0, 19, 22],\n",
       "       [ 0,  0, 28, 46],\n",
       "       [ 0,  0, 35, 49]], dtype=int64)"
      ]
     },
     "execution_count": 24,
     "metadata": {},
     "output_type": "execute_result"
    }
   ],
   "source": [
    "confusion_matrix = metrics.confusion_matrix(y, predvals)\n",
    "confusion_matrix"
   ]
  },
  {
   "cell_type": "markdown",
   "id": "9695a929",
   "metadata": {},
   "source": [
    "    Looking at the confusion matrix we can see that the model struggles in predicting the 1 and 2 values for the JobSatisfaction rankings. This information can possibly help us in creating a better model in the future."
   ]
  },
  {
   "cell_type": "markdown",
   "id": "e1bb6f8e",
   "metadata": {},
   "source": [
    "## Conclusion:\n",
    "\n",
    "#### What does the analysis/model building tell you?\n",
    "\n",
    "    Overall, the model tells us that a company can possibly predict their emploee's job satisfaction based on those varaibles that we decided to keep in our model with an accuracy of around 31%. While this might not sound like too good of a model based on that accuracy, it's still better than randomly guessing (25% chance of guessing correctly).\n",
    "    \n",
    "#### Is this model ready to be deployed?\n",
    "\n",
    "    While the model does theoretically perform better than just randomly guessing the results, we don't believe that this model is ready to be deployed and used in business practices. The model struggles when predicting the lower ranking values so that is an area that should be inproved before being deployed. While this model isn't necessarily tied with business profits, it might also be better to strive for a model that has a higher accuracy score. Somewhere around 70% accuracy would be something to strive for and something a company might consider with more confidence.\n",
    "\n",
    "#### What are your recommendations?\n",
    "\n",
    "    As stated before, I would recommend including more data that includes more JobSatisfaction values of 1 and 2. This could possibly help in raising that accuracy score for those values as we saw that was a struggle in the confusion matrix. Not only the accuracy for those values but the accuracy score in general as well.\n",
    "    \n",
    "#### What are some of the potential challenges\n",
    "\n",
    "    Some potential challenges could be replication of this data. This data included observations of different employees from a single company. Ideally this information could be gathered from different companies. A larger amount of observations would also be ideal but making sure that there are enough of each ranking values in the data in order to improve the accuracy of our model across all values might be a challenge as well. Perhaps there should be a different ranking system to be put in place. Depending on who is collecting the data and with what methods they are using can also affect the integrity of the data which is also a challenge. Is it the employers and bosses collecting this data? Do the employee's remain anonymous while providing their information? These are some questions to consider which might affect how truthful employees are when providing the information provided in the dataset.\n",
    "\n",
    "#### Are there additional opportunities to be explored?\n",
    "\n",
    "    Naturally there are always additonal opportunities to be explored. As I mentioned, something more on a larger scale can be greatly beneficial in improving the working enjoronment and job satisfaction employees feel in their careers. Being able to pinpoint what type of variables are associated with a person's job satisfaction can be beneficial to both the employees as well as the employers. More variables can be added, possibly employee benefits. Companies can then see what kind of benefits they can provide for their employees that would drive up job satisfaction and in turn lower job turnover and increase productivity."
   ]
  }
 ],
 "metadata": {
  "kernelspec": {
   "display_name": "Python 3 (ipykernel)",
   "language": "python",
   "name": "python3"
  },
  "language_info": {
   "codemirror_mode": {
    "name": "ipython",
    "version": 3
   },
   "file_extension": ".py",
   "mimetype": "text/x-python",
   "name": "python",
   "nbconvert_exporter": "python",
   "pygments_lexer": "ipython3",
   "version": "3.10.9"
  }
 },
 "nbformat": 4,
 "nbformat_minor": 5
}
